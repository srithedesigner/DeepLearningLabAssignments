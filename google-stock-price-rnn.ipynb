{
 "cells": [
  {
   "cell_type": "code",
   "execution_count": 1,
   "metadata": {
    "_cell_guid": "b1076dfc-b9ad-4769-8c92-a6c4dae69d19",
    "_uuid": "8f2839f25d086af736a60e9eeb907d3b93b6e0e5"
   },
   "outputs": [
    {
     "name": "stdout",
     "output_type": "stream",
     "text": [
      "/kaggle/input/5) Recurrent Neural Network/new world image.jpg\n",
      "/kaggle/input/5) Recurrent Neural Network/Stock_Price_Test.csv\n",
      "/kaggle/input/5) Recurrent Neural Network/Recurrent Neural Network (RNN).ipynb\n",
      "/kaggle/input/5) Recurrent Neural Network/Stock_Price_Train.csv\n",
      "/kaggle/input/5) Recurrent Neural Network/one to many.jpg\n",
      "/kaggle/input/5) Recurrent Neural Network/lstm.jpg\n",
      "/kaggle/input/5) Recurrent Neural Network/many to one.jpg\n",
      "/kaggle/input/5) Recurrent Neural Network/many to many.jpg\n",
      "/kaggle/input/5) Recurrent Neural Network/international-airline-passengers.csv\n",
      "/kaggle/input/5) Recurrent Neural Network/temporal loop.jpg\n",
      "/kaggle/input/5) Recurrent Neural Network/.ipynb_checkpoints/Recurrent Neural Network (RNN)-checkpoint.ipynb\n",
      "/kaggle/input/5) Recurrent Neural Network/Recurrent_Neural_Networks/Google_Stock_Price_Train.csv\n",
      "/kaggle/input/5) Recurrent Neural Network/Recurrent_Neural_Networks/rnn.py\n",
      "/kaggle/input/5) Recurrent Neural Network/Recurrent_Neural_Networks/Google_Stock_Price_Test.csv\n"
     ]
    }
   ],
   "source": [
    "\n",
    "import numpy as np # linear algebra\n",
    "import pandas as pd # data processing, CSV file I/O (e.g. pd.read_csv)\n",
    "import matplotlib.pyplot as plt\n",
    "import warnings\n",
    "warnings.filterwarnings('ignore')\n",
    "import os\n",
    "for dirname, _, filenames in os.walk('/kaggle/input'):\n",
    "    for filename in filenames:\n",
    "        print(os.path.join(dirname, filename))\n",
    "\n"
   ]
  },
  {
   "cell_type": "code",
   "execution_count": 2,
   "metadata": {},
   "outputs": [],
   "source": [
    "train_data = pd.read_csv('/kaggle/input/5) Recurrent Neural Network/Recurrent_Neural_Networks/Google_Stock_Price_Train.csv')"
   ]
  },
  {
   "cell_type": "code",
   "execution_count": 3,
   "metadata": {},
   "outputs": [
    {
     "data": {
      "text/html": [
       "<div>\n",
       "<style scoped>\n",
       "    .dataframe tbody tr th:only-of-type {\n",
       "        vertical-align: middle;\n",
       "    }\n",
       "\n",
       "    .dataframe tbody tr th {\n",
       "        vertical-align: top;\n",
       "    }\n",
       "\n",
       "    .dataframe thead th {\n",
       "        text-align: right;\n",
       "    }\n",
       "</style>\n",
       "<table border=\"1\" class=\"dataframe\">\n",
       "  <thead>\n",
       "    <tr style=\"text-align: right;\">\n",
       "      <th></th>\n",
       "      <th>Date</th>\n",
       "      <th>Open</th>\n",
       "      <th>High</th>\n",
       "      <th>Low</th>\n",
       "      <th>Close</th>\n",
       "      <th>Volume</th>\n",
       "    </tr>\n",
       "  </thead>\n",
       "  <tbody>\n",
       "    <tr>\n",
       "      <th>0</th>\n",
       "      <td>1/3/2012</td>\n",
       "      <td>325.25</td>\n",
       "      <td>332.83</td>\n",
       "      <td>324.97</td>\n",
       "      <td>663.59</td>\n",
       "      <td>7,380,500</td>\n",
       "    </tr>\n",
       "    <tr>\n",
       "      <th>1</th>\n",
       "      <td>1/4/2012</td>\n",
       "      <td>331.27</td>\n",
       "      <td>333.87</td>\n",
       "      <td>329.08</td>\n",
       "      <td>666.45</td>\n",
       "      <td>5,749,400</td>\n",
       "    </tr>\n",
       "    <tr>\n",
       "      <th>2</th>\n",
       "      <td>1/5/2012</td>\n",
       "      <td>329.83</td>\n",
       "      <td>330.75</td>\n",
       "      <td>326.89</td>\n",
       "      <td>657.21</td>\n",
       "      <td>6,590,300</td>\n",
       "    </tr>\n",
       "    <tr>\n",
       "      <th>3</th>\n",
       "      <td>1/6/2012</td>\n",
       "      <td>328.34</td>\n",
       "      <td>328.77</td>\n",
       "      <td>323.68</td>\n",
       "      <td>648.24</td>\n",
       "      <td>5,405,900</td>\n",
       "    </tr>\n",
       "    <tr>\n",
       "      <th>4</th>\n",
       "      <td>1/9/2012</td>\n",
       "      <td>322.04</td>\n",
       "      <td>322.29</td>\n",
       "      <td>309.46</td>\n",
       "      <td>620.76</td>\n",
       "      <td>11,688,800</td>\n",
       "    </tr>\n",
       "  </tbody>\n",
       "</table>\n",
       "</div>"
      ],
      "text/plain": [
       "       Date    Open    High     Low   Close      Volume\n",
       "0  1/3/2012  325.25  332.83  324.97  663.59   7,380,500\n",
       "1  1/4/2012  331.27  333.87  329.08  666.45   5,749,400\n",
       "2  1/5/2012  329.83  330.75  326.89  657.21   6,590,300\n",
       "3  1/6/2012  328.34  328.77  323.68  648.24   5,405,900\n",
       "4  1/9/2012  322.04  322.29  309.46  620.76  11,688,800"
      ]
     },
     "execution_count": 3,
     "metadata": {},
     "output_type": "execute_result"
    }
   ],
   "source": [
    "train_data.head()"
   ]
  },
  {
   "cell_type": "code",
   "execution_count": 4,
   "metadata": {},
   "outputs": [],
   "source": [
    "train = train_data.loc[:,['Open']].values\n"
   ]
  },
  {
   "cell_type": "code",
   "execution_count": 5,
   "metadata": {},
   "outputs": [
    {
     "data": {
      "text/plain": [
       "array([[325.25],\n",
       "       [331.27],\n",
       "       [329.83],\n",
       "       ...,\n",
       "       [793.7 ],\n",
       "       [783.33],\n",
       "       [782.75]])"
      ]
     },
     "execution_count": 5,
     "metadata": {},
     "output_type": "execute_result"
    }
   ],
   "source": [
    "train"
   ]
  },
  {
   "cell_type": "code",
   "execution_count": 6,
   "metadata": {},
   "outputs": [
    {
     "data": {
      "text/plain": [
       "array([[0.08581368],\n",
       "       [0.09701243],\n",
       "       [0.09433366],\n",
       "       ...,\n",
       "       [0.95725128],\n",
       "       [0.93796041],\n",
       "       [0.93688146]])"
      ]
     },
     "execution_count": 6,
     "metadata": {},
     "output_type": "execute_result"
    }
   ],
   "source": [
    "from sklearn.preprocessing import MinMaxScaler\n",
    "scaler = MinMaxScaler(feature_range = (0,1))\n",
    "train_scaled = scaler.fit_transform(train)\n",
    "train_scaled"
   ]
  },
  {
   "cell_type": "code",
   "execution_count": 7,
   "metadata": {},
   "outputs": [
    {
     "data": {
      "text/plain": [
       "[<matplotlib.lines.Line2D at 0x7fb9d7fe39e8>]"
      ]
     },
     "execution_count": 7,
     "metadata": {},
     "output_type": "execute_result"
    },
    {
     "data": {
      "image/png": "[encoded data removed]",
      "text/plain": [
       "<Figure size 432x288 with 1 Axes>"
      ]
     },
     "metadata": {
      "needs_background": "light"
     },
     "output_type": "display_data"
    }
   ],
   "source": [
    "plt.plot(train_scaled)"
   ]
  },
  {
   "cell_type": "code",
   "execution_count": 8,
   "metadata": {},
   "outputs": [],
   "source": [
    "X_train = []\n",
    "y_train = []\n",
    "timesteps = 50\n",
    "for i in range(timesteps, 1258):\n",
    "    X_train.append(train_scaled[i-timesteps:i, 0])\n",
    "    y_train.append(train_scaled[i, 0])\n",
    "X_train, y_train = np.array(X_train), np.array(y_train)"
   ]
  },
  {
   "cell_type": "code",
   "execution_count": 9,
   "metadata": {},
   "outputs": [
    {
     "data": {
      "text/plain": [
       "array([[[0.08581368],\n",
       "        [0.09701243],\n",
       "        [0.09433366],\n",
       "        ...,\n",
       "        [0.03675869],\n",
       "        [0.04486941],\n",
       "        [0.05065481]],\n",
       "\n",
       "       [[0.09701243],\n",
       "        [0.09433366],\n",
       "        [0.09156187],\n",
       "        ...,\n",
       "        [0.04486941],\n",
       "        [0.05065481],\n",
       "        [0.05214302]],\n",
       "\n",
       "       [[0.09433366],\n",
       "        [0.09156187],\n",
       "        [0.07984225],\n",
       "        ...,\n",
       "        [0.05065481],\n",
       "        [0.05214302],\n",
       "        [0.05612397]],\n",
       "\n",
       "       ...,\n",
       "\n",
       "       [[0.9313937 ],\n",
       "        [0.94636878],\n",
       "        [0.96569685],\n",
       "        ...,\n",
       "        [0.95475854],\n",
       "        [0.95204256],\n",
       "        [0.95163331]],\n",
       "\n",
       "       [[0.94636878],\n",
       "        [0.96569685],\n",
       "        [0.97510976],\n",
       "        ...,\n",
       "        [0.95204256],\n",
       "        [0.95163331],\n",
       "        [0.95725128]],\n",
       "\n",
       "       [[0.96569685],\n",
       "        [0.97510976],\n",
       "        [0.95966962],\n",
       "        ...,\n",
       "        [0.95163331],\n",
       "        [0.95725128],\n",
       "        [0.93796041]]])"
      ]
     },
     "execution_count": 9,
     "metadata": {},
     "output_type": "execute_result"
    }
   ],
   "source": [
    "X_train = np.reshape(X_train, (X_train.shape[0], X_train.shape[1], 1))\n",
    "X_train"
   ]
  },
  {
   "cell_type": "code",
   "execution_count": 10,
   "metadata": {},
   "outputs": [
    {
     "data": {
      "text/plain": [
       "array([0.05214302, 0.05612397, 0.05818885, ..., 0.95725128, 0.93796041,\n",
       "       0.93688146])"
      ]
     },
     "execution_count": 10,
     "metadata": {},
     "output_type": "execute_result"
    }
   ],
   "source": [
    "y_train"
   ]
  },
  {
   "cell_type": "markdown",
   "metadata": {},
   "source": [
    "## Create the RNN Model"
   ]
  },
  {
   "cell_type": "code",
   "execution_count": 11,
   "metadata": {},
   "outputs": [
    {
     "name": "stderr",
     "output_type": "stream",
     "text": [
      "Using TensorFlow backend.\n"
     ]
    },
    {
     "name": "stdout",
     "output_type": "stream",
     "text": [
      "Epoch 1/100\n",
      "1208/1208 [==============================] - 3s 2ms/step - loss: 0.3904\n",
      "Epoch 2/100\n",
      "1208/1208 [==============================] - 2s 1ms/step - loss: 0.2109\n",
      "Epoch 3/100\n",
      "1208/1208 [==============================] - 2s 1ms/step - loss: 0.1555\n",
      "Epoch 4/100\n",
      "1208/1208 [==============================] - 2s 1ms/step - loss: 0.1252\n",
      "Epoch 5/100\n",
      "1208/1208 [==============================] - 2s 1ms/step - loss: 0.0986\n",
      "Epoch 6/100\n",
      "1208/1208 [==============================] - 2s 1ms/step - loss: 0.0758\n",
      "Epoch 7/100\n",
      "1208/1208 [==============================] - 2s 1ms/step - loss: 0.0584\n",
      "Epoch 8/100\n",
      "1208/1208 [==============================] - 2s 1ms/step - loss: 0.0538\n",
      "Epoch 9/100\n",
      "1208/1208 [==============================] - 2s 1ms/step - loss: 0.0480\n",
      "Epoch 10/100\n",
      "1208/1208 [==============================] - 2s 1ms/step - loss: 0.0357\n",
      "Epoch 11/100\n",
      "1208/1208 [==============================] - 2s 1ms/step - loss: 0.0346\n",
      "Epoch 12/100\n",
      "1208/1208 [==============================] - 2s 1ms/step - loss: 0.0318\n",
      "Epoch 13/100\n",
      "1208/1208 [==============================] - 2s 1ms/step - loss: 0.0264\n",
      "Epoch 14/100\n",
      "1208/1208 [==============================] - 2s 1ms/step - loss: 0.0238\n",
      "Epoch 15/100\n",
      "1208/1208 [==============================] - 2s 1ms/step - loss: 0.0221\n",
      "Epoch 16/100\n",
      "1208/1208 [==============================] - 2s 1ms/step - loss: 0.0188\n",
      "Epoch 17/100\n",
      "1208/1208 [==============================] - 2s 1ms/step - loss: 0.0194\n",
      "Epoch 18/100\n",
      "1208/1208 [==============================] - 2s 1ms/step - loss: 0.0187\n",
      "Epoch 19/100\n",
      "1208/1208 [==============================] - 2s 1ms/step - loss: 0.0179\n",
      "Epoch 20/100\n",
      "1208/1208 [==============================] - 2s 1ms/step - loss: 0.0149\n",
      "Epoch 21/100\n",
      "1208/1208 [==============================] - 2s 2ms/step - loss: 0.0132\n",
      "Epoch 22/100\n",
      "1208/1208 [==============================] - 2s 2ms/step - loss: 0.0128\n",
      "Epoch 23/100\n",
      "1208/1208 [==============================] - 2s 1ms/step - loss: 0.0112\n",
      "Epoch 24/100\n",
      "1208/1208 [==============================] - 2s 1ms/step - loss: 0.0108\n",
      "Epoch 25/100\n",
      "1208/1208 [==============================] - 2s 1ms/step - loss: 0.0098\n",
      "Epoch 26/100\n",
      "1208/1208 [==============================] - 2s 1ms/step - loss: 0.0094\n",
      "Epoch 27/100\n",
      "1208/1208 [==============================] - 2s 1ms/step - loss: 0.0093\n",
      "Epoch 28/100\n",
      "1208/1208 [==============================] - 2s 1ms/step - loss: 0.0085\n",
      "Epoch 29/100\n",
      "1208/1208 [==============================] - 2s 1ms/step - loss: 0.0092\n",
      "Epoch 30/100\n",
      "1208/1208 [==============================] - 2s 1ms/step - loss: 0.0078\n",
      "Epoch 31/100\n",
      "1208/1208 [==============================] - 2s 1ms/step - loss: 0.0077\n",
      "Epoch 32/100\n",
      "1208/1208 [==============================] - 2s 1ms/step - loss: 0.0073\n",
      "Epoch 33/100\n",
      "1208/1208 [==============================] - 2s 1ms/step - loss: 0.0073\n",
      "Epoch 34/100\n",
      "1208/1208 [==============================] - 2s 1ms/step - loss: 0.0057\n",
      "Epoch 35/100\n",
      "1208/1208 [==============================] - 2s 1ms/step - loss: 0.0062\n",
      "Epoch 36/100\n",
      "1208/1208 [==============================] - 2s 1ms/step - loss: 0.0059\n",
      "Epoch 37/100\n",
      "1208/1208 [==============================] - 2s 1ms/step - loss: 0.0054\n",
      "Epoch 38/100\n",
      "1208/1208 [==============================] - 2s 1ms/step - loss: 0.0057\n",
      "Epoch 39/100\n",
      "1208/1208 [==============================] - 2s 1ms/step - loss: 0.0056\n",
      "Epoch 40/100\n",
      "1208/1208 [==============================] - 2s 1ms/step - loss: 0.0048\n",
      "Epoch 41/100\n",
      "1208/1208 [==============================] - 2s 1ms/step - loss: 0.0049\n",
      "Epoch 42/100\n",
      "1208/1208 [==============================] - 2s 1ms/step - loss: 0.0049\n",
      "Epoch 43/100\n",
      "1208/1208 [==============================] - 2s 1ms/step - loss: 0.0047\n",
      "Epoch 44/100\n",
      "1208/1208 [==============================] - 2s 1ms/step - loss: 0.0049\n",
      "Epoch 45/100\n",
      "1208/1208 [==============================] - 2s 1ms/step - loss: 0.0051\n",
      "Epoch 46/100\n",
      "1208/1208 [==============================] - 2s 1ms/step - loss: 0.0045\n",
      "Epoch 47/100\n",
      "1208/1208 [==============================] - 2s 1ms/step - loss: 0.0039\n",
      "Epoch 48/100\n",
      "1208/1208 [==============================] - 2s 1ms/step - loss: 0.0040\n",
      "Epoch 49/100\n",
      "1208/1208 [==============================] - 2s 1ms/step - loss: 0.0041\n",
      "Epoch 50/100\n",
      "1208/1208 [==============================] - 2s 1ms/step - loss: 0.0040\n",
      "Epoch 51/100\n",
      "1208/1208 [==============================] - 2s 1ms/step - loss: 0.0040\n",
      "Epoch 52/100\n",
      "1208/1208 [==============================] - 2s 1ms/step - loss: 0.0037\n",
      "Epoch 53/100\n",
      "1208/1208 [==============================] - 2s 1ms/step - loss: 0.0036\n",
      "Epoch 54/100\n",
      "1208/1208 [==============================] - 2s 1ms/step - loss: 0.0038\n",
      "Epoch 55/100\n",
      "1208/1208 [==============================] - 2s 1ms/step - loss: 0.0041\n",
      "Epoch 56/100\n",
      "1208/1208 [==============================] - 2s 1ms/step - loss: 0.0035\n",
      "Epoch 57/100\n",
      "1208/1208 [==============================] - 2s 1ms/step - loss: 0.0035\n",
      "Epoch 58/100\n",
      "1208/1208 [==============================] - 2s 1ms/step - loss: 0.0038\n",
      "Epoch 59/100\n",
      "1208/1208 [==============================] - 2s 1ms/step - loss: 0.0035\n",
      "Epoch 60/100\n",
      "1208/1208 [==============================] - 2s 1ms/step - loss: 0.0033\n",
      "Epoch 61/100\n",
      "1208/1208 [==============================] - 2s 1ms/step - loss: 0.0035\n",
      "Epoch 62/100\n",
      "1208/1208 [==============================] - 2s 1ms/step - loss: 0.0035\n",
      "Epoch 63/100\n",
      "1208/1208 [==============================] - 2s 1ms/step - loss: 0.0028\n",
      "Epoch 64/100\n",
      "1208/1208 [==============================] - 2s 1ms/step - loss: 0.0033\n",
      "Epoch 65/100\n",
      "1208/1208 [==============================] - 2s 1ms/step - loss: 0.0031\n",
      "Epoch 66/100\n",
      "1208/1208 [==============================] - 2s 1ms/step - loss: 0.0034\n",
      "Epoch 67/100\n",
      "1208/1208 [==============================] - 2s 1ms/step - loss: 0.0031\n",
      "Epoch 68/100\n",
      "1208/1208 [==============================] - 2s 1ms/step - loss: 0.0029\n",
      "Epoch 69/100\n",
      "1208/1208 [==============================] - 2s 1ms/step - loss: 0.0026\n",
      "Epoch 70/100\n",
      "1208/1208 [==============================] - 2s 1ms/step - loss: 0.0028\n",
      "Epoch 71/100\n",
      "1208/1208 [==============================] - 2s 1ms/step - loss: 0.0029\n",
      "Epoch 72/100\n",
      "1208/1208 [==============================] - 2s 1ms/step - loss: 0.0029\n",
      "Epoch 73/100\n",
      "1208/1208 [==============================] - 2s 2ms/step - loss: 0.0027\n",
      "Epoch 74/100\n",
      "1208/1208 [==============================] - 2s 2ms/step - loss: 0.0027\n",
      "Epoch 75/100\n",
      "1208/1208 [==============================] - 2s 2ms/step - loss: 0.0027\n",
      "Epoch 76/100\n",
      "1208/1208 [==============================] - 2s 2ms/step - loss: 0.0029\n",
      "Epoch 77/100\n",
      "1208/1208 [==============================] - 2s 2ms/step - loss: 0.0028\n",
      "Epoch 78/100\n",
      "1208/1208 [==============================] - 2s 1ms/step - loss: 0.0025\n",
      "Epoch 79/100\n",
      "1208/1208 [==============================] - 2s 1ms/step - loss: 0.0026\n",
      "Epoch 80/100\n",
      "1208/1208 [==============================] - 2s 1ms/step - loss: 0.0025\n",
      "Epoch 81/100\n",
      "1208/1208 [==============================] - 2s 1ms/step - loss: 0.0023\n",
      "Epoch 82/100\n",
      "1208/1208 [==============================] - 2s 1ms/step - loss: 0.0027\n",
      "Epoch 83/100\n",
      "1208/1208 [==============================] - 2s 1ms/step - loss: 0.0029\n",
      "Epoch 84/100\n",
      "1208/1208 [==============================] - 2s 1ms/step - loss: 0.0025\n",
      "Epoch 85/100\n",
      "1208/1208 [==============================] - 2s 1ms/step - loss: 0.0025\n",
      "Epoch 86/100\n",
      "1208/1208 [==============================] - 2s 1ms/step - loss: 0.0024\n",
      "Epoch 87/100\n",
      "1208/1208 [==============================] - 2s 1ms/step - loss: 0.0026\n",
      "Epoch 88/100\n",
      "1208/1208 [==============================] - 2s 1ms/step - loss: 0.0027\n",
      "Epoch 89/100\n",
      "1208/1208 [==============================] - 2s 1ms/step - loss: 0.0025\n",
      "Epoch 90/100\n",
      "1208/1208 [==============================] - 2s 1ms/step - loss: 0.0023\n",
      "Epoch 91/100\n",
      "1208/1208 [==============================] - 2s 1ms/step - loss: 0.0024\n",
      "Epoch 92/100\n",
      "1208/1208 [==============================] - 2s 1ms/step - loss: 0.0022\n",
      "Epoch 93/100\n",
      "1208/1208 [==============================] - 2s 1ms/step - loss: 0.0024\n",
      "Epoch 94/100\n",
      "1208/1208 [==============================] - 2s 1ms/step - loss: 0.0023\n",
      "Epoch 95/100\n",
      "1208/1208 [==============================] - 2s 1ms/step - loss: 0.0028\n",
      "Epoch 96/100\n",
      "1208/1208 [==============================] - 2s 1ms/step - loss: 0.0024\n",
      "Epoch 97/100\n",
      "1208/1208 [==============================] - 2s 1ms/step - loss: 0.0023\n",
      "Epoch 98/100\n",
      "1208/1208 [==============================] - 2s 1ms/step - loss: 0.0023\n",
      "Epoch 99/100\n",
      "1208/1208 [==============================] - 2s 1ms/step - loss: 0.0023\n",
      "Epoch 100/100\n",
      "1208/1208 [==============================] - 2s 1ms/step - loss: 0.0024\n"
     ]
    },
    {
     "data": {
      "text/plain": [
       "<keras.callbacks.History at 0x7fb9c4a05c50>"
      ]
     },
     "execution_count": 11,
     "metadata": {},
     "output_type": "execute_result"
    }
   ],
   "source": [
    "from keras.models import Sequential\n",
    "from keras.layers import Dense\n",
    "from keras.layers import SimpleRNN\n",
    "from keras.layers import Dropout\n",
    "\n",
    "regressor = Sequential()\n",
    "\n",
    "regressor.add(SimpleRNN(units = 50,activation='tanh', return_sequences = True, input_shape = (X_train.shape[1], 1)))\n",
    "regressor.add(Dropout(0.2))\n",
    "\n",
    "regressor.add(SimpleRNN(units = 50,activation='tanh', return_sequences = True))\n",
    "regressor.add(Dropout(0.2))\n",
    "\n",
    "regressor.add(SimpleRNN(units = 50,activation='tanh', return_sequences = True))\n",
    "regressor.add(Dropout(0.2))\n",
    "\n",
    "regressor.add(SimpleRNN(units = 50))\n",
    "regressor.add(Dropout(0.2))\n",
    "\n",
    "regressor.add(Dense(units = 1))\n",
    "\n",
    "regressor.compile(optimizer = 'adam', loss = 'mean_squared_error')\n",
    "\n",
    "regressor.fit(X_train, y_train, epochs = 100, batch_size = 32)"
   ]
  },
  {
   "cell_type": "code",
   "execution_count": 12,
   "metadata": {},
   "outputs": [],
   "source": [
    "test_data = pd.read_csv('/kaggle/input/5) Recurrent Neural Network/Stock_Price_Test.csv')"
   ]
  },
  {
   "cell_type": "code",
   "execution_count": 13,
   "metadata": {},
   "outputs": [
    {
     "data": {
      "text/html": [
       "<div>\n",
       "<style scoped>\n",
       "    .dataframe tbody tr th:only-of-type {\n",
       "        vertical-align: middle;\n",
       "    }\n",
       "\n",
       "    .dataframe tbody tr th {\n",
       "        vertical-align: top;\n",
       "    }\n",
       "\n",
       "    .dataframe thead th {\n",
       "        text-align: right;\n",
       "    }\n",
       "</style>\n",
       "<table border=\"1\" class=\"dataframe\">\n",
       "  <thead>\n",
       "    <tr style=\"text-align: right;\">\n",
       "      <th></th>\n",
       "      <th>Date</th>\n",
       "      <th>Open</th>\n",
       "      <th>High</th>\n",
       "      <th>Low</th>\n",
       "      <th>Close</th>\n",
       "      <th>Volume</th>\n",
       "    </tr>\n",
       "  </thead>\n",
       "  <tbody>\n",
       "    <tr>\n",
       "      <th>0</th>\n",
       "      <td>1/3/2017</td>\n",
       "      <td>778.81</td>\n",
       "      <td>789.63</td>\n",
       "      <td>775.80</td>\n",
       "      <td>786.14</td>\n",
       "      <td>1,657,300</td>\n",
       "    </tr>\n",
       "    <tr>\n",
       "      <th>1</th>\n",
       "      <td>1/4/2017</td>\n",
       "      <td>788.36</td>\n",
       "      <td>791.34</td>\n",
       "      <td>783.16</td>\n",
       "      <td>786.90</td>\n",
       "      <td>1,073,000</td>\n",
       "    </tr>\n",
       "    <tr>\n",
       "      <th>2</th>\n",
       "      <td>1/5/2017</td>\n",
       "      <td>786.08</td>\n",
       "      <td>794.48</td>\n",
       "      <td>785.02</td>\n",
       "      <td>794.02</td>\n",
       "      <td>1,335,200</td>\n",
       "    </tr>\n",
       "    <tr>\n",
       "      <th>3</th>\n",
       "      <td>1/6/2017</td>\n",
       "      <td>795.26</td>\n",
       "      <td>807.90</td>\n",
       "      <td>792.20</td>\n",
       "      <td>806.15</td>\n",
       "      <td>1,640,200</td>\n",
       "    </tr>\n",
       "    <tr>\n",
       "      <th>4</th>\n",
       "      <td>1/9/2017</td>\n",
       "      <td>806.40</td>\n",
       "      <td>809.97</td>\n",
       "      <td>802.83</td>\n",
       "      <td>806.65</td>\n",
       "      <td>1,272,400</td>\n",
       "    </tr>\n",
       "  </tbody>\n",
       "</table>\n",
       "</div>"
      ],
      "text/plain": [
       "       Date    Open    High     Low   Close     Volume\n",
       "0  1/3/2017  778.81  789.63  775.80  786.14  1,657,300\n",
       "1  1/4/2017  788.36  791.34  783.16  786.90  1,073,000\n",
       "2  1/5/2017  786.08  794.48  785.02  794.02  1,335,200\n",
       "3  1/6/2017  795.26  807.90  792.20  806.15  1,640,200\n",
       "4  1/9/2017  806.40  809.97  802.83  806.65  1,272,400"
      ]
     },
     "execution_count": 13,
     "metadata": {},
     "output_type": "execute_result"
    }
   ],
   "source": [
    "test_data.head()"
   ]
  },
  {
   "cell_type": "code",
   "execution_count": 14,
   "metadata": {},
   "outputs": [],
   "source": [
    "real_stock_price = test_data.loc[:,['Open']].values"
   ]
  },
  {
   "cell_type": "code",
   "execution_count": 15,
   "metadata": {},
   "outputs": [
    {
     "data": {
      "text/plain": [
       "array([[778.81],\n",
       "       [788.36],\n",
       "       [786.08],\n",
       "       [795.26],\n",
       "       [806.4 ],\n",
       "       [807.86],\n",
       "       [805.  ],\n",
       "       [807.14],\n",
       "       [807.48],\n",
       "       [807.08],\n",
       "       [805.81],\n",
       "       [805.12],\n",
       "       [806.91],\n",
       "       [807.25],\n",
       "       [822.3 ],\n",
       "       [829.62],\n",
       "       [837.81],\n",
       "       [834.71],\n",
       "       [814.66],\n",
       "       [796.86]])"
      ]
     },
     "execution_count": 15,
     "metadata": {},
     "output_type": "execute_result"
    }
   ],
   "source": [
    "real_stock_price"
   ]
  },
  {
   "cell_type": "code",
   "execution_count": 16,
   "metadata": {},
   "outputs": [],
   "source": [
    "total_data = pd.concat((train_data['Open'],test_data['Open']),axis=0)\n",
    "inputs = total_data[len(total_data)-len(test_data)-timesteps:].values.reshape(-1,1)\n",
    "inputs = scaler.transform(inputs) #min max scaler"
   ]
  },
  {
   "cell_type": "code",
   "execution_count": 17,
   "metadata": {},
   "outputs": [
    {
     "data": {
      "text/plain": [
       "array([[0.97510976],\n",
       "       [0.95966962],\n",
       "       [0.97808617],\n",
       "       [1.        ],\n",
       "       [0.98076494],\n",
       "       [0.97083116],\n",
       "       [0.98450406],\n",
       "       [0.96054394],\n",
       "       [0.9371419 ],\n",
       "       [0.92841729],\n",
       "       [0.90804747],\n",
       "       [0.8771858 ],\n",
       "       [0.92153434],\n",
       "       [0.93809063],\n",
       "       [0.93165414],\n",
       "       [0.95254483],\n",
       "       [0.88812412],\n",
       "       [0.88637547],\n",
       "       [0.87032145],\n",
       "       [0.88563137],\n",
       "       [0.90743359],\n",
       "       [0.91571173],\n",
       "       [0.89941588],\n",
       "       [0.91805566],\n",
       "       [0.9089404 ],\n",
       "       [0.9024853 ],\n",
       "       [0.89456061],\n",
       "       [0.91600938],\n",
       "       [0.9132934 ],\n",
       "       [0.88979835],\n",
       "       [0.86589404],\n",
       "       [0.89030062],\n",
       "       [0.90335962],\n",
       "       [0.89642086],\n",
       "       [0.91777662],\n",
       "       [0.93176576],\n",
       "       [0.94114145],\n",
       "       [0.95762334],\n",
       "       [0.96413424],\n",
       "       [0.96402262],\n",
       "       [0.96971501],\n",
       "       [0.95077759],\n",
       "       [0.96294367],\n",
       "       [0.96123223],\n",
       "       [0.95475854],\n",
       "       [0.95204256],\n",
       "       [0.95163331],\n",
       "       [0.95725128],\n",
       "       [0.93796041],\n",
       "       [0.93688146],\n",
       "       [0.92955205],\n",
       "       [0.94731751],\n",
       "       [0.94307612],\n",
       "       [0.96015329],\n",
       "       [0.98087655],\n",
       "       [0.98359253],\n",
       "       [0.97827219],\n",
       "       [0.98225314],\n",
       "       [0.98288563],\n",
       "       [0.98214153],\n",
       "       [0.979779  ],\n",
       "       [0.97849542],\n",
       "       [0.98182528],\n",
       "       [0.98245777],\n",
       "       [1.01045465],\n",
       "       [1.02407173],\n",
       "       [1.03930724],\n",
       "       [1.03354044],\n",
       "       [0.99624228],\n",
       "       [0.9631297 ]])"
      ]
     },
     "execution_count": 17,
     "metadata": {},
     "output_type": "execute_result"
    }
   ],
   "source": [
    "inputs"
   ]
  },
  {
   "cell_type": "code",
   "execution_count": 18,
   "metadata": {},
   "outputs": [],
   "source": [
    "X_test = []\n",
    "for i in range(timesteps, 70):\n",
    "    X_test.append(inputs[i-timesteps:i, 0])\n",
    "X_test = np.array(X_test)\n",
    "X_test = np.reshape(X_test, (X_test.shape[0], X_test.shape[1], 1))\n",
    "predicted_stock_price = regressor.predict(X_test)\n",
    "predicted_stock_price = scaler.inverse_transform(predicted_stock_price)"
   ]
  },
  {
   "cell_type": "markdown",
   "metadata": {},
   "source": [
    "## Visualization"
   ]
  },
  {
   "cell_type": "code",
   "execution_count": 19,
   "metadata": {},
   "outputs": [
    {
     "data": {
      "image/png": "[encoded data removed]",
      "text/plain": [
       "<Figure size 432x288 with 1 Axes>"
      ]
     },
     "metadata": {
      "needs_background": "light"
     },
     "output_type": "display_data"
    }
   ],
   "source": [
    "plt.plot(real_stock_price,color='red',label='Real Google Stock Price')\n",
    "plt.plot(predicted_stock_price,color='blue',label='Predicted Google Stock Price')\n",
    "plt.title('Google Stoc Price Prediction')\n",
    "plt.xlabel('Time')\n",
    "plt.ylabel('Google Stock Price')\n",
    "plt.legend()\n",
    "plt.show()"
   ]
  },
  {
   "cell_type": "code",
   "execution_count": null,
   "metadata": {},
   "outputs": [],
   "source": []
  }
 ],
 "metadata": {
  "kernelspec": {
   "display_name": "Python 3 (ipykernel)",
   "language": "python",
   "name": "python3"
  },
  "language_info": {
   "codemirror_mode": {
    "name": "ipython",
    "version": 3
   },
   "file_extension": ".py",
   "mimetype": "text/x-python",
   "name": "python",
   "nbconvert_exporter": "python",
   "pygments_lexer": "ipython3",
   "version": "3.11.2"
  }
 },
 "nbformat": 4,
 "nbformat_minor": 4
}
