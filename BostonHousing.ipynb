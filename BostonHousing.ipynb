{
 "cells": [
  {
   "cell_type": "markdown",
   "metadata": {},
   "source": [
    "The dataset used in this project comes from the UCI Machine Learning Repository. This data was collected in 1978 and each of the 506 entries represents aggregate information about 14 features of homes from various suburbs located in Boston.\n",
    "\n",
    "The features can be summarized as follows:\n",
    "* CRIM: This is the per capita crime rate by town\n",
    "* ZN: This is the proportion of residential land zoned for lots larger than 25,000 sq.ft.\n",
    "* INDUS: This is the proportion of non-retail business acres per town.\n",
    "* CHAS: This is the Charles River dummy variable (this is equal to 1 if tract bounds river; 0 otherwise)\n",
    "* NOX: This is the nitric oxides concentration (parts per 10 million)\n",
    "* RM: This is the average number of rooms per dwelling\n",
    "* AGE: This is the proportion of owner-occupied units built prior to 1940\n",
    "* DIS: This is the weighted distances to five Boston employment centers\n",
    "* RAD: This is the index of accessibility to radial highways\n",
    "* TAX: This is the full-value property-tax rate per 1000 bucks\n",
    "* PTRATIO: This is the pupil-teacher ratio by town\n",
    "* B: This is calculated as 1000(Bk — 0.63)², where Bk is the proportion of people of African American descent by town\n",
    "* LSTAT: This is the percentage lower status of the population\n",
    "* MEDV: This is the median value of owner-occupied homes in 1000s"
   ]
  },
  {
   "cell_type": "markdown",
   "metadata": {},
   "source": [
    "<a id = 'library'></a>\n",
    "# Importing libraries and the dataset"
   ]
  },
  {
   "cell_type": "code",
   "execution_count": 1,
   "metadata": {
    "_cell_guid": "b1076dfc-b9ad-4769-8c92-a6c4dae69d19",
    "_uuid": "8f2839f25d086af736a60e9eeb907d3b93b6e0e5",
    "execution": {
     "iopub.execute_input": "2023-05-08T23:32:03.592999Z",
     "iopub.status.busy": "2023-05-08T23:32:03.592524Z",
     "iopub.status.idle": "2023-05-08T23:32:03.598722Z",
     "shell.execute_reply": "2023-05-08T23:32:03.597227Z",
     "shell.execute_reply.started": "2023-05-08T23:32:03.592962Z"
    }
   },
   "outputs": [],
   "source": [
    "import numpy as np\n",
    "import pandas as pd"
   ]
  },
  {
   "cell_type": "code",
   "execution_count": 2,
   "metadata": {
    "execution": {
     "iopub.execute_input": "2023-05-08T23:32:03.612654Z",
     "iopub.status.busy": "2023-05-08T23:32:03.611021Z",
     "iopub.status.idle": "2023-05-08T23:32:04.511336Z",
     "shell.execute_reply": "2023-05-08T23:32:04.510455Z",
     "shell.execute_reply.started": "2023-05-08T23:32:03.612592Z"
    }
   },
   "outputs": [],
   "source": [
    "from sklearn.datasets import load_boston\n",
    "boston = load_boston()"
   ]
  },
  {
   "cell_type": "code",
   "execution_count": 3,
   "metadata": {
    "execution": {
     "iopub.execute_input": "2023-05-08T23:32:04.517934Z",
     "iopub.status.busy": "2023-05-08T23:32:04.515958Z",
     "iopub.status.idle": "2023-05-08T23:32:04.525350Z",
     "shell.execute_reply": "2023-05-08T23:32:04.524396Z",
     "shell.execute_reply.started": "2023-05-08T23:32:04.517891Z"
    }
   },
   "outputs": [],
   "source": [
    "data = pd.DataFrame(boston.data)"
   ]
  },
  {
   "cell_type": "markdown",
   "metadata": {},
   "source": [
    "### First look at the dataset"
   ]
  },
  {
   "cell_type": "code",
   "execution_count": 4,
   "metadata": {
    "execution": {
     "iopub.execute_input": "2023-05-08T23:32:04.532496Z",
     "iopub.status.busy": "2023-05-08T23:32:04.530016Z",
     "iopub.status.idle": "2023-05-08T23:32:04.564899Z",
     "shell.execute_reply": "2023-05-08T23:32:04.564083Z",
     "shell.execute_reply.started": "2023-05-08T23:32:04.532447Z"
    }
   },
   "outputs": [
    {
     "data": {
      "text/html": [
       "<div>\n",
       "<style scoped>\n",
       "    .dataframe tbody tr th:only-of-type {\n",
       "        vertical-align: middle;\n",
       "    }\n",
       "\n",
       "    .dataframe tbody tr th {\n",
       "        vertical-align: top;\n",
       "    }\n",
       "\n",
       "    .dataframe thead th {\n",
       "        text-align: right;\n",
       "    }\n",
       "</style>\n",
       "<table border=\"1\" class=\"dataframe\">\n",
       "  <thead>\n",
       "    <tr style=\"text-align: right;\">\n",
       "      <th></th>\n",
       "      <th>0</th>\n",
       "      <th>1</th>\n",
       "      <th>2</th>\n",
       "      <th>3</th>\n",
       "      <th>4</th>\n",
       "      <th>5</th>\n",
       "      <th>6</th>\n",
       "      <th>7</th>\n",
       "      <th>8</th>\n",
       "      <th>9</th>\n",
       "      <th>10</th>\n",
       "      <th>11</th>\n",
       "      <th>12</th>\n",
       "    </tr>\n",
       "  </thead>\n",
       "  <tbody>\n",
       "    <tr>\n",
       "      <th>0</th>\n",
       "      <td>0.00632</td>\n",
       "      <td>18.0</td>\n",
       "      <td>2.31</td>\n",
       "      <td>0.0</td>\n",
       "      <td>0.538</td>\n",
       "      <td>6.575</td>\n",
       "      <td>65.2</td>\n",
       "      <td>4.0900</td>\n",
       "      <td>1.0</td>\n",
       "      <td>296.0</td>\n",
       "      <td>15.3</td>\n",
       "      <td>396.90</td>\n",
       "      <td>4.98</td>\n",
       "    </tr>\n",
       "    <tr>\n",
       "      <th>1</th>\n",
       "      <td>0.02731</td>\n",
       "      <td>0.0</td>\n",
       "      <td>7.07</td>\n",
       "      <td>0.0</td>\n",
       "      <td>0.469</td>\n",
       "      <td>6.421</td>\n",
       "      <td>78.9</td>\n",
       "      <td>4.9671</td>\n",
       "      <td>2.0</td>\n",
       "      <td>242.0</td>\n",
       "      <td>17.8</td>\n",
       "      <td>396.90</td>\n",
       "      <td>9.14</td>\n",
       "    </tr>\n",
       "    <tr>\n",
       "      <th>2</th>\n",
       "      <td>0.02729</td>\n",
       "      <td>0.0</td>\n",
       "      <td>7.07</td>\n",
       "      <td>0.0</td>\n",
       "      <td>0.469</td>\n",
       "      <td>7.185</td>\n",
       "      <td>61.1</td>\n",
       "      <td>4.9671</td>\n",
       "      <td>2.0</td>\n",
       "      <td>242.0</td>\n",
       "      <td>17.8</td>\n",
       "      <td>392.83</td>\n",
       "      <td>4.03</td>\n",
       "    </tr>\n",
       "    <tr>\n",
       "      <th>3</th>\n",
       "      <td>0.03237</td>\n",
       "      <td>0.0</td>\n",
       "      <td>2.18</td>\n",
       "      <td>0.0</td>\n",
       "      <td>0.458</td>\n",
       "      <td>6.998</td>\n",
       "      <td>45.8</td>\n",
       "      <td>6.0622</td>\n",
       "      <td>3.0</td>\n",
       "      <td>222.0</td>\n",
       "      <td>18.7</td>\n",
       "      <td>394.63</td>\n",
       "      <td>2.94</td>\n",
       "    </tr>\n",
       "    <tr>\n",
       "      <th>4</th>\n",
       "      <td>0.06905</td>\n",
       "      <td>0.0</td>\n",
       "      <td>2.18</td>\n",
       "      <td>0.0</td>\n",
       "      <td>0.458</td>\n",
       "      <td>7.147</td>\n",
       "      <td>54.2</td>\n",
       "      <td>6.0622</td>\n",
       "      <td>3.0</td>\n",
       "      <td>222.0</td>\n",
       "      <td>18.7</td>\n",
       "      <td>396.90</td>\n",
       "      <td>5.33</td>\n",
       "    </tr>\n",
       "  </tbody>\n",
       "</table>\n",
       "</div>"
      ],
      "text/plain": [
       "         0     1     2    3      4      5     6       7    8      9    10  \\\n",
       "0  0.00632  18.0  2.31  0.0  0.538  6.575  65.2  4.0900  1.0  296.0  15.3   \n",
       "1  0.02731   0.0  7.07  0.0  0.469  6.421  78.9  4.9671  2.0  242.0  17.8   \n",
       "2  0.02729   0.0  7.07  0.0  0.469  7.185  61.1  4.9671  2.0  242.0  17.8   \n",
       "3  0.03237   0.0  2.18  0.0  0.458  6.998  45.8  6.0622  3.0  222.0  18.7   \n",
       "4  0.06905   0.0  2.18  0.0  0.458  7.147  54.2  6.0622  3.0  222.0  18.7   \n",
       "\n",
       "       11    12  \n",
       "0  396.90  4.98  \n",
       "1  396.90  9.14  \n",
       "2  392.83  4.03  \n",
       "3  394.63  2.94  \n",
       "4  396.90  5.33  "
      ]
     },
     "execution_count": 4,
     "metadata": {},
     "output_type": "execute_result"
    }
   ],
   "source": [
    "data.head()"
   ]
  },
  {
   "cell_type": "code",
   "execution_count": 5,
   "metadata": {
    "execution": {
     "iopub.execute_input": "2023-05-08T23:32:04.570787Z",
     "iopub.status.busy": "2023-05-08T23:32:04.568742Z",
     "iopub.status.idle": "2023-05-08T23:32:04.576608Z",
     "shell.execute_reply": "2023-05-08T23:32:04.575646Z",
     "shell.execute_reply.started": "2023-05-08T23:32:04.570743Z"
    }
   },
   "outputs": [],
   "source": [
    "data.columns = boston.feature_names"
   ]
  },
  {
   "cell_type": "code",
   "execution_count": 6,
   "metadata": {
    "execution": {
     "iopub.execute_input": "2023-05-08T23:32:04.585161Z",
     "iopub.status.busy": "2023-05-08T23:32:04.582713Z",
     "iopub.status.idle": "2023-05-08T23:32:04.593232Z",
     "shell.execute_reply": "2023-05-08T23:32:04.592383Z",
     "shell.execute_reply.started": "2023-05-08T23:32:04.585111Z"
    }
   },
   "outputs": [],
   "source": [
    "data['PRICE'] = boston.target "
   ]
  },
  {
   "cell_type": "code",
   "execution_count": 7,
   "metadata": {
    "execution": {
     "iopub.execute_input": "2023-05-08T23:32:04.601191Z",
     "iopub.status.busy": "2023-05-08T23:32:04.598778Z",
     "iopub.status.idle": "2023-05-08T23:32:04.627616Z",
     "shell.execute_reply": "2023-05-08T23:32:04.626805Z",
     "shell.execute_reply.started": "2023-05-08T23:32:04.601145Z"
    }
   },
   "outputs": [
    {
     "data": {
      "text/html": [
       "<div>\n",
       "<style scoped>\n",
       "    .dataframe tbody tr th:only-of-type {\n",
       "        vertical-align: middle;\n",
       "    }\n",
       "\n",
       "    .dataframe tbody tr th {\n",
       "        vertical-align: top;\n",
       "    }\n",
       "\n",
       "    .dataframe thead th {\n",
       "        text-align: right;\n",
       "    }\n",
       "</style>\n",
       "<table border=\"1\" class=\"dataframe\">\n",
       "  <thead>\n",
       "    <tr style=\"text-align: right;\">\n",
       "      <th></th>\n",
       "      <th>CRIM</th>\n",
       "      <th>ZN</th>\n",
       "      <th>INDUS</th>\n",
       "      <th>CHAS</th>\n",
       "      <th>NOX</th>\n",
       "      <th>RM</th>\n",
       "      <th>AGE</th>\n",
       "      <th>DIS</th>\n",
       "      <th>RAD</th>\n",
       "      <th>TAX</th>\n",
       "      <th>PTRATIO</th>\n",
       "      <th>B</th>\n",
       "      <th>LSTAT</th>\n",
       "      <th>PRICE</th>\n",
       "    </tr>\n",
       "  </thead>\n",
       "  <tbody>\n",
       "    <tr>\n",
       "      <th>0</th>\n",
       "      <td>0.00632</td>\n",
       "      <td>18.0</td>\n",
       "      <td>2.31</td>\n",
       "      <td>0.0</td>\n",
       "      <td>0.538</td>\n",
       "      <td>6.575</td>\n",
       "      <td>65.2</td>\n",
       "      <td>4.0900</td>\n",
       "      <td>1.0</td>\n",
       "      <td>296.0</td>\n",
       "      <td>15.3</td>\n",
       "      <td>396.90</td>\n",
       "      <td>4.98</td>\n",
       "      <td>24.0</td>\n",
       "    </tr>\n",
       "    <tr>\n",
       "      <th>1</th>\n",
       "      <td>0.02731</td>\n",
       "      <td>0.0</td>\n",
       "      <td>7.07</td>\n",
       "      <td>0.0</td>\n",
       "      <td>0.469</td>\n",
       "      <td>6.421</td>\n",
       "      <td>78.9</td>\n",
       "      <td>4.9671</td>\n",
       "      <td>2.0</td>\n",
       "      <td>242.0</td>\n",
       "      <td>17.8</td>\n",
       "      <td>396.90</td>\n",
       "      <td>9.14</td>\n",
       "      <td>21.6</td>\n",
       "    </tr>\n",
       "    <tr>\n",
       "      <th>2</th>\n",
       "      <td>0.02729</td>\n",
       "      <td>0.0</td>\n",
       "      <td>7.07</td>\n",
       "      <td>0.0</td>\n",
       "      <td>0.469</td>\n",
       "      <td>7.185</td>\n",
       "      <td>61.1</td>\n",
       "      <td>4.9671</td>\n",
       "      <td>2.0</td>\n",
       "      <td>242.0</td>\n",
       "      <td>17.8</td>\n",
       "      <td>392.83</td>\n",
       "      <td>4.03</td>\n",
       "      <td>34.7</td>\n",
       "    </tr>\n",
       "    <tr>\n",
       "      <th>3</th>\n",
       "      <td>0.03237</td>\n",
       "      <td>0.0</td>\n",
       "      <td>2.18</td>\n",
       "      <td>0.0</td>\n",
       "      <td>0.458</td>\n",
       "      <td>6.998</td>\n",
       "      <td>45.8</td>\n",
       "      <td>6.0622</td>\n",
       "      <td>3.0</td>\n",
       "      <td>222.0</td>\n",
       "      <td>18.7</td>\n",
       "      <td>394.63</td>\n",
       "      <td>2.94</td>\n",
       "      <td>33.4</td>\n",
       "    </tr>\n",
       "    <tr>\n",
       "      <th>4</th>\n",
       "      <td>0.06905</td>\n",
       "      <td>0.0</td>\n",
       "      <td>2.18</td>\n",
       "      <td>0.0</td>\n",
       "      <td>0.458</td>\n",
       "      <td>7.147</td>\n",
       "      <td>54.2</td>\n",
       "      <td>6.0622</td>\n",
       "      <td>3.0</td>\n",
       "      <td>222.0</td>\n",
       "      <td>18.7</td>\n",
       "      <td>396.90</td>\n",
       "      <td>5.33</td>\n",
       "      <td>36.2</td>\n",
       "    </tr>\n",
       "  </tbody>\n",
       "</table>\n",
       "</div>"
      ],
      "text/plain": [
       "      CRIM    ZN  INDUS  CHAS    NOX     RM   AGE     DIS  RAD    TAX  \\\n",
       "0  0.00632  18.0   2.31   0.0  0.538  6.575  65.2  4.0900  1.0  296.0   \n",
       "1  0.02731   0.0   7.07   0.0  0.469  6.421  78.9  4.9671  2.0  242.0   \n",
       "2  0.02729   0.0   7.07   0.0  0.469  7.185  61.1  4.9671  2.0  242.0   \n",
       "3  0.03237   0.0   2.18   0.0  0.458  6.998  45.8  6.0622  3.0  222.0   \n",
       "4  0.06905   0.0   2.18   0.0  0.458  7.147  54.2  6.0622  3.0  222.0   \n",
       "\n",
       "   PTRATIO       B  LSTAT  PRICE  \n",
       "0     15.3  396.90   4.98   24.0  \n",
       "1     17.8  396.90   9.14   21.6  \n",
       "2     17.8  392.83   4.03   34.7  \n",
       "3     18.7  394.63   2.94   33.4  \n",
       "4     18.7  396.90   5.33   36.2  "
      ]
     },
     "execution_count": 7,
     "metadata": {},
     "output_type": "execute_result"
    }
   ],
   "source": [
    "data.head()"
   ]
  },
  {
   "cell_type": "code",
   "execution_count": 8,
   "metadata": {
    "execution": {
     "iopub.execute_input": "2023-05-08T23:32:04.633320Z",
     "iopub.status.busy": "2023-05-08T23:32:04.631449Z",
     "iopub.status.idle": "2023-05-08T23:32:04.641475Z",
     "shell.execute_reply": "2023-05-08T23:32:04.640623Z",
     "shell.execute_reply.started": "2023-05-08T23:32:04.633277Z"
    }
   },
   "outputs": [
    {
     "name": "stdout",
     "output_type": "stream",
     "text": [
      "(506, 14)\n"
     ]
    }
   ],
   "source": [
    "print(data.shape)"
   ]
  },
  {
   "cell_type": "code",
   "execution_count": 9,
   "metadata": {
    "execution": {
     "iopub.execute_input": "2023-05-08T23:32:04.647921Z",
     "iopub.status.busy": "2023-05-08T23:32:04.645618Z",
     "iopub.status.idle": "2023-05-08T23:32:04.659822Z",
     "shell.execute_reply": "2023-05-08T23:32:04.658782Z",
     "shell.execute_reply.started": "2023-05-08T23:32:04.647877Z"
    }
   },
   "outputs": [
    {
     "data": {
      "text/plain": [
       "CRIM       0\n",
       "ZN         0\n",
       "INDUS      0\n",
       "CHAS       0\n",
       "NOX        0\n",
       "RM         0\n",
       "AGE        0\n",
       "DIS        0\n",
       "RAD        0\n",
       "TAX        0\n",
       "PTRATIO    0\n",
       "B          0\n",
       "LSTAT      0\n",
       "PRICE      0\n",
       "dtype: int64"
      ]
     },
     "execution_count": 9,
     "metadata": {},
     "output_type": "execute_result"
    }
   ],
   "source": [
    "data.isnull().sum()"
   ]
  },
  {
   "cell_type": "markdown",
   "metadata": {},
   "source": [
    "No null values in the dataset, no missing value treatement needed"
   ]
  },
  {
   "cell_type": "code",
   "execution_count": 10,
   "metadata": {
    "execution": {
     "iopub.execute_input": "2023-05-08T23:32:04.665648Z",
     "iopub.status.busy": "2023-05-08T23:32:04.663836Z",
     "iopub.status.idle": "2023-05-08T23:32:04.734031Z",
     "shell.execute_reply": "2023-05-08T23:32:04.733175Z",
     "shell.execute_reply.started": "2023-05-08T23:32:04.665608Z"
    }
   },
   "outputs": [
    {
     "data": {
      "text/html": [
       "<div>\n",
       "<style scoped>\n",
       "    .dataframe tbody tr th:only-of-type {\n",
       "        vertical-align: middle;\n",
       "    }\n",
       "\n",
       "    .dataframe tbody tr th {\n",
       "        vertical-align: top;\n",
       "    }\n",
       "\n",
       "    .dataframe thead th {\n",
       "        text-align: right;\n",
       "    }\n",
       "</style>\n",
       "<table border=\"1\" class=\"dataframe\">\n",
       "  <thead>\n",
       "    <tr style=\"text-align: right;\">\n",
       "      <th></th>\n",
       "      <th>CRIM</th>\n",
       "      <th>ZN</th>\n",
       "      <th>INDUS</th>\n",
       "      <th>CHAS</th>\n",
       "      <th>NOX</th>\n",
       "      <th>RM</th>\n",
       "      <th>AGE</th>\n",
       "      <th>DIS</th>\n",
       "      <th>RAD</th>\n",
       "      <th>TAX</th>\n",
       "      <th>PTRATIO</th>\n",
       "      <th>B</th>\n",
       "      <th>LSTAT</th>\n",
       "      <th>PRICE</th>\n",
       "    </tr>\n",
       "  </thead>\n",
       "  <tbody>\n",
       "    <tr>\n",
       "      <th>count</th>\n",
       "      <td>506.000000</td>\n",
       "      <td>506.000000</td>\n",
       "      <td>506.000000</td>\n",
       "      <td>506.000000</td>\n",
       "      <td>506.000000</td>\n",
       "      <td>506.000000</td>\n",
       "      <td>506.000000</td>\n",
       "      <td>506.000000</td>\n",
       "      <td>506.000000</td>\n",
       "      <td>506.000000</td>\n",
       "      <td>506.000000</td>\n",
       "      <td>506.000000</td>\n",
       "      <td>506.000000</td>\n",
       "      <td>506.000000</td>\n",
       "    </tr>\n",
       "    <tr>\n",
       "      <th>mean</th>\n",
       "      <td>3.613524</td>\n",
       "      <td>11.363636</td>\n",
       "      <td>11.136779</td>\n",
       "      <td>0.069170</td>\n",
       "      <td>0.554695</td>\n",
       "      <td>6.284634</td>\n",
       "      <td>68.574901</td>\n",
       "      <td>3.795043</td>\n",
       "      <td>9.549407</td>\n",
       "      <td>408.237154</td>\n",
       "      <td>18.455534</td>\n",
       "      <td>356.674032</td>\n",
       "      <td>12.653063</td>\n",
       "      <td>22.532806</td>\n",
       "    </tr>\n",
       "    <tr>\n",
       "      <th>std</th>\n",
       "      <td>8.601545</td>\n",
       "      <td>23.322453</td>\n",
       "      <td>6.860353</td>\n",
       "      <td>0.253994</td>\n",
       "      <td>0.115878</td>\n",
       "      <td>0.702617</td>\n",
       "      <td>28.148861</td>\n",
       "      <td>2.105710</td>\n",
       "      <td>8.707259</td>\n",
       "      <td>168.537116</td>\n",
       "      <td>2.164946</td>\n",
       "      <td>91.294864</td>\n",
       "      <td>7.141062</td>\n",
       "      <td>9.197104</td>\n",
       "    </tr>\n",
       "    <tr>\n",
       "      <th>min</th>\n",
       "      <td>0.006320</td>\n",
       "      <td>0.000000</td>\n",
       "      <td>0.460000</td>\n",
       "      <td>0.000000</td>\n",
       "      <td>0.385000</td>\n",
       "      <td>3.561000</td>\n",
       "      <td>2.900000</td>\n",
       "      <td>1.129600</td>\n",
       "      <td>1.000000</td>\n",
       "      <td>187.000000</td>\n",
       "      <td>12.600000</td>\n",
       "      <td>0.320000</td>\n",
       "      <td>1.730000</td>\n",
       "      <td>5.000000</td>\n",
       "    </tr>\n",
       "    <tr>\n",
       "      <th>25%</th>\n",
       "      <td>0.082045</td>\n",
       "      <td>0.000000</td>\n",
       "      <td>5.190000</td>\n",
       "      <td>0.000000</td>\n",
       "      <td>0.449000</td>\n",
       "      <td>5.885500</td>\n",
       "      <td>45.025000</td>\n",
       "      <td>2.100175</td>\n",
       "      <td>4.000000</td>\n",
       "      <td>279.000000</td>\n",
       "      <td>17.400000</td>\n",
       "      <td>375.377500</td>\n",
       "      <td>6.950000</td>\n",
       "      <td>17.025000</td>\n",
       "    </tr>\n",
       "    <tr>\n",
       "      <th>50%</th>\n",
       "      <td>0.256510</td>\n",
       "      <td>0.000000</td>\n",
       "      <td>9.690000</td>\n",
       "      <td>0.000000</td>\n",
       "      <td>0.538000</td>\n",
       "      <td>6.208500</td>\n",
       "      <td>77.500000</td>\n",
       "      <td>3.207450</td>\n",
       "      <td>5.000000</td>\n",
       "      <td>330.000000</td>\n",
       "      <td>19.050000</td>\n",
       "      <td>391.440000</td>\n",
       "      <td>11.360000</td>\n",
       "      <td>21.200000</td>\n",
       "    </tr>\n",
       "    <tr>\n",
       "      <th>75%</th>\n",
       "      <td>3.677083</td>\n",
       "      <td>12.500000</td>\n",
       "      <td>18.100000</td>\n",
       "      <td>0.000000</td>\n",
       "      <td>0.624000</td>\n",
       "      <td>6.623500</td>\n",
       "      <td>94.075000</td>\n",
       "      <td>5.188425</td>\n",
       "      <td>24.000000</td>\n",
       "      <td>666.000000</td>\n",
       "      <td>20.200000</td>\n",
       "      <td>396.225000</td>\n",
       "      <td>16.955000</td>\n",
       "      <td>25.000000</td>\n",
       "    </tr>\n",
       "    <tr>\n",
       "      <th>max</th>\n",
       "      <td>88.976200</td>\n",
       "      <td>100.000000</td>\n",
       "      <td>27.740000</td>\n",
       "      <td>1.000000</td>\n",
       "      <td>0.871000</td>\n",
       "      <td>8.780000</td>\n",
       "      <td>100.000000</td>\n",
       "      <td>12.126500</td>\n",
       "      <td>24.000000</td>\n",
       "      <td>711.000000</td>\n",
       "      <td>22.000000</td>\n",
       "      <td>396.900000</td>\n",
       "      <td>37.970000</td>\n",
       "      <td>50.000000</td>\n",
       "    </tr>\n",
       "  </tbody>\n",
       "</table>\n",
       "</div>"
      ],
      "text/plain": [
       "             CRIM          ZN       INDUS        CHAS         NOX          RM  \\\n",
       "count  506.000000  506.000000  506.000000  506.000000  506.000000  506.000000   \n",
       "mean     3.613524   11.363636   11.136779    0.069170    0.554695    6.284634   \n",
       "std      8.601545   23.322453    6.860353    0.253994    0.115878    0.702617   \n",
       "min      0.006320    0.000000    0.460000    0.000000    0.385000    3.561000   \n",
       "25%      0.082045    0.000000    5.190000    0.000000    0.449000    5.885500   \n",
       "50%      0.256510    0.000000    9.690000    0.000000    0.538000    6.208500   \n",
       "75%      3.677083   12.500000   18.100000    0.000000    0.624000    6.623500   \n",
       "max     88.976200  100.000000   27.740000    1.000000    0.871000    8.780000   \n",
       "\n",
       "              AGE         DIS         RAD         TAX     PTRATIO           B  \\\n",
       "count  506.000000  506.000000  506.000000  506.000000  506.000000  506.000000   \n",
       "mean    68.574901    3.795043    9.549407  408.237154   18.455534  356.674032   \n",
       "std     28.148861    2.105710    8.707259  168.537116    2.164946   91.294864   \n",
       "min      2.900000    1.129600    1.000000  187.000000   12.600000    0.320000   \n",
       "25%     45.025000    2.100175    4.000000  279.000000   17.400000  375.377500   \n",
       "50%     77.500000    3.207450    5.000000  330.000000   19.050000  391.440000   \n",
       "75%     94.075000    5.188425   24.000000  666.000000   20.200000  396.225000   \n",
       "max    100.000000   12.126500   24.000000  711.000000   22.000000  396.900000   \n",
       "\n",
       "            LSTAT       PRICE  \n",
       "count  506.000000  506.000000  \n",
       "mean    12.653063   22.532806  \n",
       "std      7.141062    9.197104  \n",
       "min      1.730000    5.000000  \n",
       "25%      6.950000   17.025000  \n",
       "50%     11.360000   21.200000  \n",
       "75%     16.955000   25.000000  \n",
       "max     37.970000   50.000000  "
      ]
     },
     "execution_count": 10,
     "metadata": {},
     "output_type": "execute_result"
    }
   ],
   "source": [
    "data.describe()"
   ]
  },
  {
   "cell_type": "markdown",
   "metadata": {},
   "source": [
    "This is sometimes very useful, for example if you look at the CRIM the max is 88.97 and 75% of the value is below 3.677083 and mean is 3.613524 so it means the max values is actually an outlier or there are outliers present in the column"
   ]
  },
  {
   "cell_type": "code",
   "execution_count": 11,
   "metadata": {
    "execution": {
     "iopub.execute_input": "2023-05-08T23:32:04.739629Z",
     "iopub.status.busy": "2023-05-08T23:32:04.737675Z",
     "iopub.status.idle": "2023-05-08T23:32:04.757773Z",
     "shell.execute_reply": "2023-05-08T23:32:04.756891Z",
     "shell.execute_reply.started": "2023-05-08T23:32:04.739585Z"
    }
   },
   "outputs": [
    {
     "name": "stdout",
     "output_type": "stream",
     "text": [
      "<class 'pandas.core.frame.DataFrame'>\n",
      "RangeIndex: 506 entries, 0 to 505\n",
      "Data columns (total 14 columns):\n",
      " #   Column   Non-Null Count  Dtype  \n",
      "---  ------   --------------  -----  \n",
      " 0   CRIM     506 non-null    float64\n",
      " 1   ZN       506 non-null    float64\n",
      " 2   INDUS    506 non-null    float64\n",
      " 3   CHAS     506 non-null    float64\n",
      " 4   NOX      506 non-null    float64\n",
      " 5   RM       506 non-null    float64\n",
      " 6   AGE      506 non-null    float64\n",
      " 7   DIS      506 non-null    float64\n",
      " 8   RAD      506 non-null    float64\n",
      " 9   TAX      506 non-null    float64\n",
      " 10  PTRATIO  506 non-null    float64\n",
      " 11  B        506 non-null    float64\n",
      " 12  LSTAT    506 non-null    float64\n",
      " 13  PRICE    506 non-null    float64\n",
      "dtypes: float64(14)\n",
      "memory usage: 55.5 KB\n"
     ]
    }
   ],
   "source": [
    "data.info()"
   ]
  },
  {
   "cell_type": "markdown",
   "metadata": {},
   "source": [
    "<a id = 'visual'></a>\n",
    "# Visualisation"
   ]
  },
  {
   "cell_type": "code",
   "execution_count": 12,
   "metadata": {
    "execution": {
     "iopub.execute_input": "2023-05-08T23:32:04.763838Z",
     "iopub.status.busy": "2023-05-08T23:32:04.761920Z",
     "iopub.status.idle": "2023-05-08T23:32:05.124752Z",
     "shell.execute_reply": "2023-05-08T23:32:05.123933Z",
     "shell.execute_reply.started": "2023-05-08T23:32:04.763796Z"
    }
   },
   "outputs": [
    {
     "data": {
      "text/plain": [
       "<matplotlib.axes._subplots.AxesSubplot at 0x7953f7ffab90>"
      ]
     },
     "execution_count": 12,
     "metadata": {},
     "output_type": "execute_result"
    },
    {
     "data": {
      "image/png": "[encoded data removed]",
      "text/plain": [
       "<Figure size 432x288 with 1 Axes>"
      ]
     },
     "metadata": {
      "needs_background": "light"
     },
     "output_type": "display_data"
    }
   ],
   "source": [
    "import seaborn as sns\n",
    "sns.distplot(data.PRICE)"
   ]
  },
  {
   "cell_type": "markdown",
   "metadata": {},
   "source": [
    "The distribution seems normal, has not be the data normal we would have perform log transformation or took to square root of the data to make the data normal. Normal distribution is need for the machine learning for better predictiblity of the model"
   ]
  },
  {
   "cell_type": "code",
   "execution_count": 13,
   "metadata": {
    "execution": {
     "iopub.execute_input": "2023-05-08T23:32:05.130584Z",
     "iopub.status.busy": "2023-05-08T23:32:05.128619Z",
     "iopub.status.idle": "2023-05-08T23:32:05.245768Z",
     "shell.execute_reply": "2023-05-08T23:32:05.244956Z",
     "shell.execute_reply.started": "2023-05-08T23:32:05.130540Z"
    }
   },
   "outputs": [
    {
     "data": {
      "text/plain": [
       "<matplotlib.axes._subplots.AxesSubplot at 0x7953f7d71950>"
      ]
     },
     "execution_count": 13,
     "metadata": {},
     "output_type": "execute_result"
    },
    {
     "data": {
      "image/png": "[encoded data removed]",
      "text/plain": [
       "<Figure size 432x288 with 1 Axes>"
      ]
     },
     "metadata": {
      "needs_background": "light"
     },
     "output_type": "display_data"
    }
   ],
   "source": [
    "sns.boxplot(data.PRICE)"
   ]
  },
  {
   "cell_type": "markdown",
   "metadata": {},
   "source": [
    "<a id = 'corr'></a>\n",
    "### Checking the correlation of the independent feature with the dependent feature\n",
    "\n",
    "Correlation is a statistical technique that can show whether and how strongly pairs of variables are related.An intelligent correlation analysis can lead to a greater understanding of your data"
   ]
  },
  {
   "cell_type": "code",
   "execution_count": 14,
   "metadata": {
    "execution": {
     "iopub.execute_input": "2023-05-08T23:32:05.251900Z",
     "iopub.status.busy": "2023-05-08T23:32:05.249864Z",
     "iopub.status.idle": "2023-05-08T23:32:05.266594Z",
     "shell.execute_reply": "2023-05-08T23:32:05.265311Z",
     "shell.execute_reply.started": "2023-05-08T23:32:05.251855Z"
    }
   },
   "outputs": [
    {
     "data": {
      "text/plain": [
       "CRIM      -0.388305\n",
       "ZN         0.360445\n",
       "INDUS     -0.483725\n",
       "CHAS       0.175260\n",
       "NOX       -0.427321\n",
       "RM         0.695360\n",
       "AGE       -0.376955\n",
       "DIS        0.249929\n",
       "RAD       -0.381626\n",
       "TAX       -0.468536\n",
       "PTRATIO   -0.507787\n",
       "B          0.333461\n",
       "LSTAT     -0.737663\n",
       "PRICE      1.000000\n",
       "Name: PRICE, dtype: float64"
      ]
     },
     "execution_count": 14,
     "metadata": {},
     "output_type": "execute_result"
    }
   ],
   "source": [
    "correlation = data.corr()\n",
    "correlation.loc['PRICE']"
   ]
  },
  {
   "cell_type": "code",
   "execution_count": 15,
   "metadata": {
    "execution": {
     "iopub.execute_input": "2023-05-08T23:32:05.273376Z",
     "iopub.status.busy": "2023-05-08T23:32:05.271283Z",
     "iopub.status.idle": "2023-05-08T23:32:06.227248Z",
     "shell.execute_reply": "2023-05-08T23:32:06.226358Z",
     "shell.execute_reply.started": "2023-05-08T23:32:05.273321Z"
    }
   },
   "outputs": [
    {
     "data": {
      "text/plain": [
       "<matplotlib.axes._subplots.AxesSubplot at 0x7953f7ce6550>"
      ]
     },
     "execution_count": 15,
     "metadata": {},
     "output_type": "execute_result"
    },
    {
     "data": {
      "image/png": "[encoded data removed]",
      "text/plain": [
       "<Figure size 1080x864 with 2 Axes>"
      ]
     },
     "metadata": {
      "needs_background": "light"
     },
     "output_type": "display_data"
    }
   ],
   "source": [
    "import matplotlib.pyplot as plt\n",
    "fig,axes = plt.subplots(figsize=(15,12))\n",
    "sns.heatmap(correlation,square = True,annot = True)"
   ]
  },
  {
   "cell_type": "markdown",
   "metadata": {},
   "source": [
    "By looking at the correlation plot LSAT is negatively correlated with -0.75 and RM is positively correlated to the price and PTRATIO is correlated negatively with -0.51"
   ]
  },
  {
   "cell_type": "code",
   "execution_count": 16,
   "metadata": {
    "execution": {
     "iopub.execute_input": "2023-05-08T23:32:06.229112Z",
     "iopub.status.busy": "2023-05-08T23:32:06.228609Z",
     "iopub.status.idle": "2023-05-08T23:32:06.674940Z",
     "shell.execute_reply": "2023-05-08T23:32:06.674017Z",
     "shell.execute_reply.started": "2023-05-08T23:32:06.229076Z"
    }
   },
   "outputs": [
    {
     "data": {
      "image/png": "[encoded data removed]",
      "text/plain": [
       "<Figure size 1440x360 with 3 Axes>"
      ]
     },
     "metadata": {
      "needs_background": "light"
     },
     "output_type": "display_data"
    }
   ],
   "source": [
    "plt.figure(figsize = (20,5))\n",
    "features = ['LSTAT','RM','PTRATIO']\n",
    "for i, col in enumerate(features):\n",
    "    plt.subplot(1, len(features) , i+1)\n",
    "    x = data[col]\n",
    "    y = data.PRICE\n",
    "    plt.scatter(x, y, marker='o')\n",
    "    plt.title(\"Variation in House prices\")\n",
    "    plt.xlabel(col)\n",
    "    plt.ylabel('\"House prices in $1000\"')"
   ]
  },
  {
   "cell_type": "markdown",
   "metadata": {},
   "source": [
    "<a id = 'split'></a>\n",
    "### Splitting the dependent feature and independent feature "
   ]
  },
  {
   "cell_type": "code",
   "execution_count": 17,
   "metadata": {
    "execution": {
     "iopub.execute_input": "2023-05-08T23:32:06.680992Z",
     "iopub.status.busy": "2023-05-08T23:32:06.678995Z",
     "iopub.status.idle": "2023-05-08T23:32:06.687591Z",
     "shell.execute_reply": "2023-05-08T23:32:06.686642Z",
     "shell.execute_reply.started": "2023-05-08T23:32:06.680945Z"
    }
   },
   "outputs": [],
   "source": [
    "X = data.iloc[:,:-1]\n",
    "y= data.PRICE"
   ]
  },
  {
   "cell_type": "markdown",
   "metadata": {},
   "source": [
    "<a id = 'valid'></a>\n",
    "### Splitting the data for Model Validation "
   ]
  },
  {
   "cell_type": "code",
   "execution_count": 18,
   "metadata": {
    "execution": {
     "iopub.execute_input": "2023-05-08T23:32:06.694157Z",
     "iopub.status.busy": "2023-05-08T23:32:06.691844Z",
     "iopub.status.idle": "2023-05-08T23:32:06.759684Z",
     "shell.execute_reply": "2023-05-08T23:32:06.758650Z",
     "shell.execute_reply.started": "2023-05-08T23:32:06.694111Z"
    }
   },
   "outputs": [],
   "source": [
    "from sklearn.model_selection import train_test_split\n",
    "X_train, X_test, y_train, y_test = train_test_split(X,y, test_size = 0.2, random_state = 4)"
   ]
  },
  {
   "cell_type": "markdown",
   "metadata": {},
   "source": [
    "<a id  = 'NN'></a>\n",
    "## Neural Networks"
   ]
  },
  {
   "cell_type": "code",
   "execution_count": 24,
   "metadata": {
    "execution": {
     "iopub.execute_input": "2023-05-08T23:32:06.974206Z",
     "iopub.status.busy": "2023-05-08T23:32:06.972130Z",
     "iopub.status.idle": "2023-05-08T23:32:06.990416Z",
     "shell.execute_reply": "2023-05-08T23:32:06.989089Z",
     "shell.execute_reply.started": "2023-05-08T23:32:06.974163Z"
    }
   },
   "outputs": [],
   "source": [
    "from sklearn.preprocessing import StandardScaler\n",
    "sc = StandardScaler()\n",
    "X_train = sc.fit_transform(X_train)\n",
    "X_test = sc.transform(X_test)"
   ]
  },
  {
   "cell_type": "markdown",
   "metadata": {},
   "source": [
    "* We are using Keras for developing the neural network.\n",
    "* Models in Keras are defined as a sequence of layers\n",
    "* We create a Sequential model and add layers one at a time with activation function\n",
    "* Activation function decides, whether a neuron should be activated or not by calculating weighted sum and further adding bias with it. The purpose of the activation function is to introduce non-linearity into the output of a neuron.The activation we are using is relu\n",
    "* As this is a regression problem, the output layer has no activation function\n",
    "* Elements of neural network has input layer, hidden layer and output layer\n",
    "* input layer:- This layer accepts input features. It provides information from the outside world to the network, no computation is performed at this layer, nodes here just pass on the information(features) to the hidden layer.\n",
    "* Hidden layer:-  Nodes of this layer are not exposed to the outer world, they are the part of the abstraction provided by any neural network. Hidden layer performs all sort of computation on the features entered through the input layer and transfer the result to the output layer.\n",
    "* Output layer:- This layer bring up the information learned by the network to the outer world.\n",
    "* Model Compilation:- The compilation is the final step in creating a model. Once the compilation is done, we can move on to training phase.\n",
    "* Optimizer : - The optimizer we are using is adam. Adam is an optimization algorithm that can be used instead of the classical stochastic gradient descent procedure to update network weights iterative based in training data.\n",
    "* Loss - mean square error"
   ]
  },
  {
   "cell_type": "code",
   "execution_count": 25,
   "metadata": {
    "execution": {
     "iopub.execute_input": "2023-05-08T23:32:06.997401Z",
     "iopub.status.busy": "2023-05-08T23:32:06.995081Z",
     "iopub.status.idle": "2023-05-08T23:32:07.241891Z",
     "shell.execute_reply": "2023-05-08T23:32:07.241081Z",
     "shell.execute_reply.started": "2023-05-08T23:32:06.997356Z"
    }
   },
   "outputs": [
    {
     "name": "stderr",
     "output_type": "stream",
     "text": [
      "Using TensorFlow backend.\n"
     ]
    }
   ],
   "source": [
    "import keras\n",
    "from keras.layers import Dense, Activation,Dropout\n",
    "from keras.models import Sequential\n",
    "\n",
    "model = Sequential()\n",
    "\n",
    "model.add(Dense(128,activation  = 'relu',input_dim =13))\n",
    "model.add(Dense(64,activation  = 'relu'))\n",
    "model.add(Dense(32,activation  = 'relu'))\n",
    "model.add(Dense(16,activation  = 'relu'))\n",
    "model.add(Dense(1))\n",
    "model.compile(optimizer = 'adam',loss = 'mean_squared_error')"
   ]
  },
  {
   "cell_type": "code",
   "execution_count": 26,
   "metadata": {
    "execution": {
     "iopub.execute_input": "2023-05-08T23:32:07.247888Z",
     "iopub.status.busy": "2023-05-08T23:32:07.245910Z",
     "iopub.status.idle": "2023-05-08T23:32:10.483050Z",
     "shell.execute_reply": "2023-05-08T23:32:10.482147Z",
     "shell.execute_reply.started": "2023-05-08T23:32:07.247842Z"
    }
   },
   "outputs": [
    {
     "name": "stdout",
     "output_type": "stream",
     "text": [
      "Epoch 1/100\n",
      "13/13 [==============================] - 0s 2ms/step - loss: 539.2366\n",
      "Epoch 2/100\n",
      "13/13 [==============================] - 0s 1ms/step - loss: 410.1736\n",
      "Epoch 3/100\n",
      "13/13 [==============================] - 0s 1ms/step - loss: 186.1440\n",
      "Epoch 4/100\n",
      "13/13 [==============================] - 0s 1ms/step - loss: 65.4258\n",
      "Epoch 5/100\n",
      "13/13 [==============================] - 0s 1ms/step - loss: 30.3596\n",
      "Epoch 6/100\n",
      "13/13 [==============================] - 0s 1ms/step - loss: 24.8689\n",
      "Epoch 7/100\n",
      "13/13 [==============================] - 0s 1ms/step - loss: 21.1246\n",
      "Epoch 8/100\n",
      "13/13 [==============================] - 0s 1ms/step - loss: 19.4331\n",
      "Epoch 9/100\n",
      "13/13 [==============================] - 0s 1ms/step - loss: 17.8774\n",
      "Epoch 10/100\n",
      "13/13 [==============================] - 0s 2ms/step - loss: 16.5680\n",
      "Epoch 11/100\n",
      "13/13 [==============================] - 0s 1ms/step - loss: 15.4583\n",
      "Epoch 12/100\n",
      "13/13 [==============================] - 0s 1ms/step - loss: 15.2002\n",
      "Epoch 13/100\n",
      "13/13 [==============================] - 0s 1ms/step - loss: 14.4183\n",
      "Epoch 14/100\n",
      "13/13 [==============================] - 0s 1ms/step - loss: 13.4698\n",
      "Epoch 15/100\n",
      "13/13 [==============================] - 0s 1ms/step - loss: 13.2392\n",
      "Epoch 16/100\n",
      "13/13 [==============================] - 0s 1ms/step - loss: 12.9144\n",
      "Epoch 17/100\n",
      "13/13 [==============================] - 0s 1ms/step - loss: 12.2252\n",
      "Epoch 18/100\n",
      "13/13 [==============================] - 0s 1ms/step - loss: 12.0330\n",
      "Epoch 19/100\n",
      "13/13 [==============================] - 0s 1ms/step - loss: 11.7028\n",
      "Epoch 20/100\n",
      "13/13 [==============================] - 0s 1ms/step - loss: 11.4159\n",
      "Epoch 21/100\n",
      "13/13 [==============================] - 0s 1ms/step - loss: 11.1921\n",
      "Epoch 22/100\n",
      "13/13 [==============================] - 0s 1ms/step - loss: 10.9417\n",
      "Epoch 23/100\n",
      "13/13 [==============================] - 0s 1ms/step - loss: 10.4293\n",
      "Epoch 24/100\n",
      "13/13 [==============================] - 0s 1ms/step - loss: 10.1360\n",
      "Epoch 25/100\n",
      "13/13 [==============================] - 0s 1ms/step - loss: 9.9300\n",
      "Epoch 26/100\n",
      "13/13 [==============================] - 0s 1ms/step - loss: 9.7499\n",
      "Epoch 27/100\n",
      "13/13 [==============================] - 0s 1ms/step - loss: 9.5751\n",
      "Epoch 28/100\n",
      "13/13 [==============================] - 0s 1ms/step - loss: 9.3207\n",
      "Epoch 29/100\n",
      "13/13 [==============================] - 0s 2ms/step - loss: 9.3032\n",
      "Epoch 30/100\n",
      "13/13 [==============================] - 0s 1ms/step - loss: 9.6185\n",
      "Epoch 31/100\n",
      "13/13 [==============================] - 0s 1ms/step - loss: 9.1524\n",
      "Epoch 32/100\n",
      "13/13 [==============================] - 0s 1ms/step - loss: 8.8525\n",
      "Epoch 33/100\n",
      "13/13 [==============================] - 0s 1ms/step - loss: 8.5777\n",
      "Epoch 34/100\n",
      "13/13 [==============================] - 0s 1ms/step - loss: 8.4051\n",
      "Epoch 35/100\n",
      "13/13 [==============================] - 0s 1ms/step - loss: 8.1531\n",
      "Epoch 36/100\n",
      "13/13 [==============================] - 0s 1ms/step - loss: 7.7660\n",
      "Epoch 37/100\n",
      "13/13 [==============================] - 0s 1ms/step - loss: 7.6438\n",
      "Epoch 38/100\n",
      "13/13 [==============================] - 0s 1ms/step - loss: 7.3437\n",
      "Epoch 39/100\n",
      "13/13 [==============================] - 0s 1ms/step - loss: 7.3958\n",
      "Epoch 40/100\n",
      "13/13 [==============================] - 0s 1ms/step - loss: 7.3910\n",
      "Epoch 41/100\n",
      "13/13 [==============================] - 0s 1ms/step - loss: 7.0006\n",
      "Epoch 42/100\n",
      "13/13 [==============================] - 0s 1ms/step - loss: 6.9062\n",
      "Epoch 43/100\n",
      "13/13 [==============================] - 0s 1ms/step - loss: 6.9566\n",
      "Epoch 44/100\n",
      "13/13 [==============================] - 0s 1ms/step - loss: 6.7894\n",
      "Epoch 45/100\n",
      "13/13 [==============================] - 0s 1ms/step - loss: 6.5809\n",
      "Epoch 46/100\n",
      "13/13 [==============================] - 0s 1ms/step - loss: 6.4925\n",
      "Epoch 47/100\n",
      "13/13 [==============================] - 0s 1ms/step - loss: 6.3135\n",
      "Epoch 48/100\n",
      "13/13 [==============================] - 0s 1ms/step - loss: 6.2087\n",
      "Epoch 49/100\n",
      "13/13 [==============================] - 0s 1ms/step - loss: 6.0984\n",
      "Epoch 50/100\n",
      "13/13 [==============================] - 0s 1ms/step - loss: 5.7675\n",
      "Epoch 51/100\n",
      "13/13 [==============================] - 0s 1ms/step - loss: 5.5561\n",
      "Epoch 52/100\n",
      "13/13 [==============================] - 0s 1ms/step - loss: 5.3850\n",
      "Epoch 53/100\n",
      "13/13 [==============================] - 0s 1ms/step - loss: 5.3932\n",
      "Epoch 54/100\n",
      "13/13 [==============================] - 0s 1ms/step - loss: 5.2227\n",
      "Epoch 55/100\n",
      "13/13 [==============================] - 0s 2ms/step - loss: 5.1452\n",
      "Epoch 56/100\n",
      "13/13 [==============================] - 0s 1ms/step - loss: 5.1638\n",
      "Epoch 57/100\n",
      "13/13 [==============================] - 0s 1ms/step - loss: 5.2205\n",
      "Epoch 58/100\n",
      "13/13 [==============================] - 0s 1ms/step - loss: 4.8672\n",
      "Epoch 59/100\n",
      "13/13 [==============================] - 0s 1ms/step - loss: 5.0125\n",
      "Epoch 60/100\n",
      "13/13 [==============================] - 0s 1ms/step - loss: 5.0929\n",
      "Epoch 61/100\n",
      "13/13 [==============================] - 0s 1ms/step - loss: 4.7506\n",
      "Epoch 62/100\n",
      "13/13 [==============================] - 0s 1ms/step - loss: 4.7217\n",
      "Epoch 63/100\n",
      "13/13 [==============================] - 0s 1ms/step - loss: 4.6101\n",
      "Epoch 64/100\n",
      "13/13 [==============================] - 0s 1ms/step - loss: 4.5884\n",
      "Epoch 65/100\n",
      "13/13 [==============================] - 0s 1ms/step - loss: 4.5377\n",
      "Epoch 66/100\n",
      "13/13 [==============================] - 0s 1ms/step - loss: 4.2723\n",
      "Epoch 67/100\n",
      "13/13 [==============================] - 0s 1ms/step - loss: 4.3229\n",
      "Epoch 68/100\n",
      "13/13 [==============================] - 0s 1ms/step - loss: 4.3534\n",
      "Epoch 69/100\n",
      "13/13 [==============================] - 0s 1ms/step - loss: 4.3129\n",
      "Epoch 70/100\n",
      "13/13 [==============================] - 0s 1ms/step - loss: 4.1001\n",
      "Epoch 71/100\n",
      "13/13 [==============================] - 0s 1ms/step - loss: 4.2106\n",
      "Epoch 72/100\n",
      "13/13 [==============================] - 0s 1ms/step - loss: 4.0445\n",
      "Epoch 73/100\n",
      "13/13 [==============================] - ETA: 0s - loss: 3.436 - 0s 1ms/step - loss: 3.9724\n",
      "Epoch 74/100\n",
      "13/13 [==============================] - 0s 1ms/step - loss: 3.8299\n",
      "Epoch 75/100\n",
      "13/13 [==============================] - 0s 1ms/step - loss: 3.7891\n",
      "Epoch 76/100\n",
      "13/13 [==============================] - 0s 1ms/step - loss: 3.8078\n",
      "Epoch 77/100\n",
      "13/13 [==============================] - 0s 1ms/step - loss: 3.8896\n",
      "Epoch 78/100\n",
      "13/13 [==============================] - 0s 1ms/step - loss: 3.7288\n",
      "Epoch 79/100\n",
      "13/13 [==============================] - 0s 1ms/step - loss: 3.8291\n",
      "Epoch 80/100\n",
      "13/13 [==============================] - 0s 1ms/step - loss: 3.5716\n",
      "Epoch 81/100\n",
      "13/13 [==============================] - 0s 1ms/step - loss: 3.7535\n",
      "Epoch 82/100\n",
      "13/13 [==============================] - 0s 2ms/step - loss: 3.5511\n",
      "Epoch 83/100\n",
      "13/13 [==============================] - 0s 1ms/step - loss: 3.3872\n",
      "Epoch 84/100\n",
      "13/13 [==============================] - 0s 1ms/step - loss: 3.9503\n",
      "Epoch 85/100\n",
      "13/13 [==============================] - 0s 1ms/step - loss: 3.5142\n",
      "Epoch 86/100\n",
      "13/13 [==============================] - 0s 2ms/step - loss: 3.8547\n",
      "Epoch 87/100\n",
      "13/13 [==============================] - 0s 2ms/step - loss: 3.1773\n",
      "Epoch 88/100\n",
      "13/13 [==============================] - 0s 1ms/step - loss: 3.1259\n",
      "Epoch 89/100\n",
      "13/13 [==============================] - 0s 1ms/step - loss: 3.1577\n",
      "Epoch 90/100\n",
      "13/13 [==============================] - 0s 1ms/step - loss: 3.2165\n",
      "Epoch 91/100\n",
      "13/13 [==============================] - 0s 1ms/step - loss: 3.1643\n",
      "Epoch 92/100\n",
      "13/13 [==============================] - 0s 2ms/step - loss: 3.2671\n",
      "Epoch 93/100\n",
      "13/13 [==============================] - 0s 1ms/step - loss: 3.1781\n",
      "Epoch 94/100\n",
      "13/13 [==============================] - 0s 1ms/step - loss: 3.0811\n",
      "Epoch 95/100\n",
      "13/13 [==============================] - 0s 1ms/step - loss: 3.2402\n",
      "Epoch 96/100\n",
      "13/13 [==============================] - 0s 1ms/step - loss: 2.9618\n",
      "Epoch 97/100\n",
      "13/13 [==============================] - 0s 1ms/step - loss: 2.8789\n",
      "Epoch 98/100\n",
      "13/13 [==============================] - 0s 1ms/step - loss: 2.8866\n",
      "Epoch 99/100\n",
      "13/13 [==============================] - 0s 1ms/step - loss: 2.8537\n",
      "Epoch 100/100\n",
      "13/13 [==============================] - 0s 1ms/step - loss: 2.8151\n"
     ]
    },
    {
     "data": {
      "text/plain": [
       "<tensorflow.python.keras.callbacks.History at 0x7953ec20f690>"
      ]
     },
     "execution_count": 26,
     "metadata": {},
     "output_type": "execute_result"
    }
   ],
   "source": [
    "model.fit(X_train, y_train, epochs = 100)"
   ]
  },
  {
   "cell_type": "markdown",
   "metadata": {},
   "source": [
    "<a id = 'eval'></a>\n",
    "### Evaluation of the model"
   ]
  },
  {
   "cell_type": "code",
   "execution_count": 27,
   "metadata": {
    "execution": {
     "iopub.execute_input": "2023-05-08T23:32:10.488726Z",
     "iopub.status.busy": "2023-05-08T23:32:10.486844Z",
     "iopub.status.idle": "2023-05-08T23:32:10.661725Z",
     "shell.execute_reply": "2023-05-08T23:32:10.660847Z",
     "shell.execute_reply.started": "2023-05-08T23:32:10.488682Z"
    }
   },
   "outputs": [],
   "source": [
    "y_pred = model.predict(X_test)"
   ]
  },
  {
   "cell_type": "code",
   "execution_count": 28,
   "metadata": {
    "execution": {
     "iopub.execute_input": "2023-05-08T23:32:10.667896Z",
     "iopub.status.busy": "2023-05-08T23:32:10.665980Z",
     "iopub.status.idle": "2023-05-08T23:32:10.677292Z",
     "shell.execute_reply": "2023-05-08T23:32:10.676469Z",
     "shell.execute_reply.started": "2023-05-08T23:32:10.667842Z"
    }
   },
   "outputs": [
    {
     "name": "stdout",
     "output_type": "stream",
     "text": [
      "0.9081469163989192\n"
     ]
    }
   ],
   "source": [
    "from sklearn.metrics import r2_score\n",
    "r2 = r2_score(y_test, y_pred)\n",
    "print(r2)"
   ]
  },
  {
   "cell_type": "code",
   "execution_count": 29,
   "metadata": {
    "execution": {
     "iopub.execute_input": "2023-05-08T23:32:10.683052Z",
     "iopub.status.busy": "2023-05-08T23:32:10.681122Z",
     "iopub.status.idle": "2023-05-08T23:32:10.698216Z",
     "shell.execute_reply": "2023-05-08T23:32:10.697293Z",
     "shell.execute_reply.started": "2023-05-08T23:32:10.683005Z"
    }
   },
   "outputs": [
    {
     "name": "stdout",
     "output_type": "stream",
     "text": [
      "2.9209864239066645\n"
     ]
    }
   ],
   "source": [
    "# Predicting RMSE the Test set results\n",
    "from sklearn.metrics import mean_squared_error\n",
    "rmse = (np.sqrt(mean_squared_error(y_test, y_pred)))\n",
    "print(rmse)"
   ]
  }
 ],
 "metadata": {
  "kernelspec": {
   "display_name": "Python 3 (ipykernel)",
   "language": "python",
   "name": "python3"
  },
  "language_info": {
   "codemirror_mode": {
    "name": "ipython",
    "version": 3
   },
   "file_extension": ".py",
   "mimetype": "text/x-python",
   "name": "python",
   "nbconvert_exporter": "python",
   "pygments_lexer": "ipython3",
   "version": "3.11.2"
  }
 },
 "nbformat": 4,
 "nbformat_minor": 4
}
